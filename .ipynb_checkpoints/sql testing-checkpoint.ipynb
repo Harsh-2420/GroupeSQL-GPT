{
 "cells": [
  {
   "cell_type": "code",
   "execution_count": 1,
   "id": "c275121a",
   "metadata": {},
   "outputs": [],
   "source": [
    "import pandas as pd\n",
    "import sqlite3\n",
    "import os"
   ]
  },
  {
   "cell_type": "code",
   "execution_count": 11,
   "id": "3e918dd4",
   "metadata": {},
   "outputs": [
    {
     "name": "stdout",
     "output_type": "stream",
     "text": [
      "[(0,)]\n"
     ]
    }
   ],
   "source": [
    "if os.path.exists('my_database.db'):\n",
    "        os.remove('my_database.db')\n",
    "\n",
    "        \n",
    "# sql_query = \"SELECT COUNT(*) FROM df WHERE Dt_Customer > '2013-01-01' AND Complain = 1 AND Income > 50000\"\n",
    "sql_query = \"SELECT COUNT(*) FROM df WHERE Dt_Customer > '2013-01-01' AND Complain = 1\"\n",
    "# sql_query = \"SELECT count(*) FROM df WHERE NumDealsPurchases >10\"\n",
    "\n",
    "df = pd.read_csv(\"./ml_project1_data.csv\")\n",
    "df.fillna(0, inplace=True)\n",
    "# Step 3: Create an SQLite database and table\n",
    "conn = sqlite3.connect('my_database.db')\n",
    "cursor = conn.cursor()\n",
    "\n",
    "\n",
    "\n",
    "sqlite_data_types = {\n",
    "    \"ID\": \"INTEGER\",\n",
    "    \"Year_Birth\": \"INTEGER\",\n",
    "    \"Education\": \"TEXT\",\n",
    "    \"Marital_Status\": \"TEXT\",\n",
    "    \"Income\": \"INTEGER\",\n",
    "    \"Kidhome\": \"INTEGER\",\n",
    "    \"Teenhome\": \"INTEGER\",\n",
    "    \"Dt_Customer\":\"DATE\",\n",
    "    \"Recency\": \"INTEGER\",\n",
    "    \"MntWines\": \"INTEGER\",\n",
    "    \"MntFruits\": \"INTEGER\",\n",
    "    \"MntMeatProducts\": \"INTEGER\",\n",
    "    \"MntFishProducts\": \"INTEGER\",\n",
    "    \"MntSweetProducts\": \"INTEGER\",\n",
    "    \"MntGoldProds\": \"INTEGER\",\n",
    "    \"NumDealsPurchases\": \"INTEGER\",\n",
    "    \"NumWebPurchases\": \"INTEGER\",\n",
    "    \"NumCatalogPurchases\": \"INTEGER\",\n",
    "    \"NumStorePurchases\": \"INTEGER\",\n",
    "    \"NumWebVisitsMonth\": \"INTEGER\",\n",
    "    \"AcceptedCmp3\": \"INTEGER\",\n",
    "    \"AcceptedCmp4\": \"INTEGER\",\n",
    "    \"AcceptedCmp5\": \"INTEGER\",\n",
    "    \"AcceptedCmp1\": \"INTEGER\",\n",
    "    \"AcceptedCmp2\": \"INTEGER\",\n",
    "    \"Complain\": \"INTEGER\",\n",
    "    \"Z_CostContact\": \"INTEGER\",\n",
    "    \"Z_Revenue\": \"INTEGER\",\n",
    "    \"Response\": \"INTEGER\",\n",
    "}\n",
    "\n",
    "\n",
    "\n",
    "\n",
    "\n",
    "\n",
    "create_table_sql = f'''\n",
    "    CREATE TABLE IF NOT EXISTS df (\n",
    "        {', '.join([f\"{col} {sqlite_data_types[col]}\" for col in df.columns])}\n",
    "    )\n",
    "'''\n",
    "cursor.execute(create_table_sql)\n",
    "\n",
    "for _, row in df.iterrows():\n",
    "    values = ', '.join([f\"'{row[col]}'\" if sqlite_data_types[col] == 'TEXT' else str(row[col]) for col in df.columns])\n",
    "    insert_sql = f'''\n",
    "        INSERT INTO df\n",
    "        VALUES ({values})\n",
    "    '''\n",
    "    cursor.execute(insert_sql)\n",
    "\n",
    "conn.commit()\n",
    "\n",
    "# Step 4: Run SQL queries on the database\n",
    "# Example 1: Select all rows from the table\n",
    "# cursor.execute(\"Select * from df order by Income desc limit 20\")\n",
    "cursor.execute(sql_query)\n",
    "results = cursor.fetchall()\n",
    "# Step 5: Close the database connection\n",
    "conn.close()\n",
    "print(results)"
   ]
  },
  {
   "cell_type": "code",
   "execution_count": 12,
   "id": "812d0b72",
   "metadata": {},
   "outputs": [
    {
     "data": {
      "text/html": [
       "<div>\n",
       "<style scoped>\n",
       "    .dataframe tbody tr th:only-of-type {\n",
       "        vertical-align: middle;\n",
       "    }\n",
       "\n",
       "    .dataframe tbody tr th {\n",
       "        vertical-align: top;\n",
       "    }\n",
       "\n",
       "    .dataframe thead th {\n",
       "        text-align: right;\n",
       "    }\n",
       "</style>\n",
       "<table border=\"1\" class=\"dataframe\">\n",
       "  <thead>\n",
       "    <tr style=\"text-align: right;\">\n",
       "      <th></th>\n",
       "      <th>0</th>\n",
       "    </tr>\n",
       "  </thead>\n",
       "  <tbody>\n",
       "    <tr>\n",
       "      <th>0</th>\n",
       "      <td>0</td>\n",
       "    </tr>\n",
       "  </tbody>\n",
       "</table>\n",
       "</div>"
      ],
      "text/plain": [
       "   0\n",
       "0  0"
      ]
     },
     "execution_count": 12,
     "metadata": {},
     "output_type": "execute_result"
    }
   ],
   "source": [
    "pd.DataFrame(results)"
   ]
  },
  {
   "cell_type": "code",
   "execution_count": 6,
   "id": "fb5dd95a",
   "metadata": {},
   "outputs": [
    {
     "data": {
      "text/plain": [
       "numpy.int64"
      ]
     },
     "execution_count": 6,
     "metadata": {},
     "output_type": "execute_result"
    }
   ],
   "source": [
    "type(df['NumDealsPurchases'][0])"
   ]
  },
  {
   "cell_type": "code",
   "execution_count": null,
   "id": "4f19f915",
   "metadata": {},
   "outputs": [],
   "source": []
  }
 ],
 "metadata": {
  "kernelspec": {
   "display_name": "Python 3 (ipykernel)",
   "language": "python",
   "name": "python3"
  },
  "language_info": {
   "codemirror_mode": {
    "name": "ipython",
    "version": 3
   },
   "file_extension": ".py",
   "mimetype": "text/x-python",
   "name": "python",
   "nbconvert_exporter": "python",
   "pygments_lexer": "ipython3",
   "version": "3.11.2"
  }
 },
 "nbformat": 4,
 "nbformat_minor": 5
}
